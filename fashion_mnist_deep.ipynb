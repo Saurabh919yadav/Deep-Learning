{
  "nbformat": 4,
  "nbformat_minor": 0,
  "metadata": {
    "colab": {
      "name": "fashion_mnist_deep.ipynb",
      "version": "0.3.2",
      "provenance": [],
      "collapsed_sections": [],
      "include_colab_link": true
    },
    "kernelspec": {
      "name": "python3",
      "display_name": "Python 3"
    },
    "accelerator": "GPU"
  },
  "cells": [
    {
      "cell_type": "markdown",
      "metadata": {
        "id": "view-in-github",
        "colab_type": "text"
      },
      "source": [
        "<a href=\"https://colab.research.google.com/github/Saurabh919yadav/Deep-Learning/blob/master/fashion_mnist_deep.ipynb\" target=\"_parent\"><img src=\"https://colab.research.google.com/assets/colab-badge.svg\" alt=\"Open In Colab\"/></a>"
      ]
    },
    {
      "metadata": {
        "id": "IWPdZ2091RG2",
        "colab_type": "code",
        "outputId": "e956dcc0-8328-4eee-b111-569f24cf9b5a",
        "colab": {
          "base_uri": "https://localhost:8080/",
          "height": 35
        }
      },
      "cell_type": "code",
      "source": [
        "import numpy as np\n",
        "from keras.datasets import fashion_mnist\n",
        "from keras.models import Sequential\n",
        "from keras.layers import Dense\n",
        "from keras.layers import Dropout\n",
        "from keras.layers import Flatten\n",
        "from keras.constraints import maxnorm\n",
        "from keras.optimizers import Adam,Adadelta\n",
        "from keras.layers.convolutional import Conv2D, MaxPooling2D\n",
        "from keras.utils import np_utils\n"
      ],
      "execution_count": 1,
      "outputs": [
        {
          "output_type": "stream",
          "text": [
            "Using TensorFlow backend.\n"
          ],
          "name": "stderr"
        }
      ]
    },
    {
      "metadata": {
        "id": "yyouWG8K3cnk",
        "colab_type": "code",
        "colab": {
          "base_uri": "https://localhost:8080/",
          "height": 156
        },
        "outputId": "b015ac34-9211-45d3-cefa-d3bdf8d86414"
      },
      "cell_type": "code",
      "source": [
        "#load data\n",
        "(x_train, y_train), (x_test, y_test) = fashion_mnist.load_data()"
      ],
      "execution_count": 2,
      "outputs": [
        {
          "output_type": "stream",
          "text": [
            "Downloading data from http://fashion-mnist.s3-website.eu-central-1.amazonaws.com/train-labels-idx1-ubyte.gz\n",
            "32768/29515 [=================================] - 0s 3us/step\n",
            "Downloading data from http://fashion-mnist.s3-website.eu-central-1.amazonaws.com/train-images-idx3-ubyte.gz\n",
            "26427392/26421880 [==============================] - 6s 0us/step\n",
            "Downloading data from http://fashion-mnist.s3-website.eu-central-1.amazonaws.com/t10k-labels-idx1-ubyte.gz\n",
            "8192/5148 [===============================================] - 0s 0us/step\n",
            "Downloading data from http://fashion-mnist.s3-website.eu-central-1.amazonaws.com/t10k-images-idx3-ubyte.gz\n",
            "4423680/4422102 [==============================] - 3s 1us/step\n"
          ],
          "name": "stdout"
        }
      ]
    },
    {
      "metadata": {
        "id": "C11ahiZv3nlh",
        "colab_type": "code",
        "outputId": "bd768d4b-faad-452c-ac76-e744a8aeaddd",
        "colab": {
          "base_uri": "https://localhost:8080/",
          "height": 87
        }
      },
      "cell_type": "code",
      "source": [
        "num_classes=10\n",
        "epochs = 30\n",
        "batch_size = 128\n",
        "\n",
        "\n",
        "#normalize imput from 0-255 to 0.0-1.0\n",
        "x_train = x_train.astype('float32')\n",
        "x_test = x_test.astype('float32')\n",
        "\n",
        "x_train = x_train.reshape(60000, 28, 28, 1)\n",
        "x_test = x_test.reshape(10000, 28, 28, 1)\n",
        "\n",
        "x_train = x_train/255.0\n",
        "x_test = x_test/255.0\n",
        "print(\"X_train shape : \"+str(x_train.shape))\n",
        "print(\"X_test shape: \"+str(x_test.shape))\n",
        "\n",
        "#convert Y to categorical data\n",
        "y_train = np_utils.to_categorical(y_train,num_classes)\n",
        "y_test = np_utils.to_categorical(y_test,num_classes)\n",
        "\n",
        "print(\"Y_train shape : \"+str(y_train.shape))\n",
        "print(\"Y_test shape : \"+str(y_test.shape))"
      ],
      "execution_count": 3,
      "outputs": [
        {
          "output_type": "stream",
          "text": [
            "X_train shape : (60000, 28, 28, 1)\n",
            "X_test shape: (10000, 28, 28, 1)\n",
            "Y_train shape : (60000, 10)\n",
            "Y_test shape : (10000, 10)\n"
          ],
          "name": "stdout"
        }
      ]
    },
    {
      "metadata": {
        "id": "fR8R4XE_5HFP",
        "colab_type": "code",
        "colab": {}
      },
      "cell_type": "code",
      "source": [
        "\n",
        "\n",
        "model = Sequential()\n",
        "model.add(Conv2D(32, kernel_size = (3,3), activation = 'relu',input_shape = (28,28,1), padding = 'same'))\n",
        "model.add(Dropout(0.2))\n",
        "model.add(Conv2D(32, kernel_size = (3,3),activation = 'relu', padding = 'same'))\n",
        "model.add(MaxPooling2D(pool_size=(2, 2)))\n",
        "model.add(Conv2D(64, (3, 3), activation='relu', padding='same'))\n",
        "model.add(Dropout(0.2))\n",
        "model.add(Conv2D(64, (3, 3), activation='relu', padding='same'))\n",
        "model.add(MaxPooling2D(pool_size = (2,2)))\n",
        "model.add(Conv2D(128, (3, 3), activation='relu', padding='same'))\n",
        "model.add(Dropout(0.2))\n",
        "model.add(Conv2D(128, (3, 3), activation='relu', padding='same'))\n",
        "model.add(MaxPooling2D(pool_size=(2, 2)))\n",
        "model.add(Flatten())\n",
        "model.add(Dropout(0.2))\n",
        "model.add(Dense(1024, activation='relu', kernel_constraint=maxnorm(3)))\n",
        "model.add(Dropout(0.2))\n",
        "model.add(Dense(512, activation = 'relu', kernel_constraint=maxnorm(3)))\n",
        "model.add(Dropout(0.2))\n",
        "model.add(Dense(num_classes, activation = 'softmax'))\n",
        "\n"
      ],
      "execution_count": 0,
      "outputs": []
    },
    {
      "metadata": {
        "id": "M-n-IWel-JAZ",
        "colab_type": "code",
        "outputId": "1ccacf35-b19a-4993-943a-764adfb57739",
        "colab": {
          "base_uri": "https://localhost:8080/",
          "height": 815
        }
      },
      "cell_type": "code",
      "source": [
        "model.compile(loss = 'categorical_crossentropy',\n",
        "              optimizer = Adam(),\n",
        "              metrics = ['accuracy'])\n",
        "\n",
        "print(model.summary())"
      ],
      "execution_count": 5,
      "outputs": [
        {
          "output_type": "stream",
          "text": [
            "_________________________________________________________________\n",
            "Layer (type)                 Output Shape              Param #   \n",
            "=================================================================\n",
            "conv2d_1 (Conv2D)            (None, 28, 28, 32)        320       \n",
            "_________________________________________________________________\n",
            "dropout_1 (Dropout)          (None, 28, 28, 32)        0         \n",
            "_________________________________________________________________\n",
            "conv2d_2 (Conv2D)            (None, 28, 28, 32)        9248      \n",
            "_________________________________________________________________\n",
            "max_pooling2d_1 (MaxPooling2 (None, 14, 14, 32)        0         \n",
            "_________________________________________________________________\n",
            "conv2d_3 (Conv2D)            (None, 14, 14, 64)        18496     \n",
            "_________________________________________________________________\n",
            "dropout_2 (Dropout)          (None, 14, 14, 64)        0         \n",
            "_________________________________________________________________\n",
            "conv2d_4 (Conv2D)            (None, 14, 14, 64)        36928     \n",
            "_________________________________________________________________\n",
            "max_pooling2d_2 (MaxPooling2 (None, 7, 7, 64)          0         \n",
            "_________________________________________________________________\n",
            "conv2d_5 (Conv2D)            (None, 7, 7, 128)         73856     \n",
            "_________________________________________________________________\n",
            "dropout_3 (Dropout)          (None, 7, 7, 128)         0         \n",
            "_________________________________________________________________\n",
            "conv2d_6 (Conv2D)            (None, 7, 7, 128)         147584    \n",
            "_________________________________________________________________\n",
            "max_pooling2d_3 (MaxPooling2 (None, 3, 3, 128)         0         \n",
            "_________________________________________________________________\n",
            "flatten_1 (Flatten)          (None, 1152)              0         \n",
            "_________________________________________________________________\n",
            "dropout_4 (Dropout)          (None, 1152)              0         \n",
            "_________________________________________________________________\n",
            "dense_1 (Dense)              (None, 1024)              1180672   \n",
            "_________________________________________________________________\n",
            "dropout_5 (Dropout)          (None, 1024)              0         \n",
            "_________________________________________________________________\n",
            "dense_2 (Dense)              (None, 512)               524800    \n",
            "_________________________________________________________________\n",
            "dropout_6 (Dropout)          (None, 512)               0         \n",
            "_________________________________________________________________\n",
            "dense_3 (Dense)              (None, 10)                5130      \n",
            "=================================================================\n",
            "Total params: 1,997,034\n",
            "Trainable params: 1,997,034\n",
            "Non-trainable params: 0\n",
            "_________________________________________________________________\n",
            "None\n"
          ],
          "name": "stdout"
        }
      ]
    },
    {
      "metadata": {
        "id": "ViJgbEgX-4Lz",
        "colab_type": "code",
        "outputId": "51dbb95d-8b03-4004-d140-2b3ed0f46228",
        "colab": {
          "base_uri": "https://localhost:8080/",
          "height": 1109
        }
      },
      "cell_type": "code",
      "source": [
        "model.fit(x_train, y_train,\n",
        "          validation_data = (x_test, y_test),\n",
        "          verbose = 1,\n",
        "          epochs = epochs,\n",
        "          batch_size = batch_size)\n",
        "\n",
        "score = model.evaluate(x_test, y_test, verbose = 0)\n",
        "print('test loss',score[0])\n",
        "print('test accuracy',score[1])"
      ],
      "execution_count": 6,
      "outputs": [
        {
          "output_type": "stream",
          "text": [
            "Train on 60000 samples, validate on 10000 samples\n",
            "Epoch 1/30\n",
            "60000/60000 [==============================] - 38s 635us/step - loss: 0.5761 - acc: 0.7834 - val_loss: 0.3839 - val_acc: 0.8542\n",
            "Epoch 2/30\n",
            "60000/60000 [==============================] - 34s 562us/step - loss: 0.3436 - acc: 0.8714 - val_loss: 0.3277 - val_acc: 0.8816\n",
            "Epoch 3/30\n",
            "60000/60000 [==============================] - 34s 564us/step - loss: 0.2911 - acc: 0.8919 - val_loss: 0.2729 - val_acc: 0.8995\n",
            "Epoch 4/30\n",
            "60000/60000 [==============================] - 34s 564us/step - loss: 0.2544 - acc: 0.9052 - val_loss: 0.2595 - val_acc: 0.9053\n",
            "Epoch 5/30\n",
            "60000/60000 [==============================] - 34s 563us/step - loss: 0.2344 - acc: 0.9133 - val_loss: 0.2330 - val_acc: 0.9143\n",
            "Epoch 6/30\n",
            "60000/60000 [==============================] - 26s 429us/step - loss: 0.2168 - acc: 0.9200 - val_loss: 0.2327 - val_acc: 0.9155\n",
            "Epoch 7/30\n",
            "60000/60000 [==============================] - 19s 321us/step - loss: 0.2036 - acc: 0.9235 - val_loss: 0.2203 - val_acc: 0.9177\n",
            "Epoch 8/30\n",
            "60000/60000 [==============================] - 19s 321us/step - loss: 0.1910 - acc: 0.9290 - val_loss: 0.2157 - val_acc: 0.9193\n",
            "Epoch 9/30\n",
            "60000/60000 [==============================] - 19s 321us/step - loss: 0.1840 - acc: 0.9306 - val_loss: 0.2258 - val_acc: 0.9189\n",
            "Epoch 10/30\n",
            "60000/60000 [==============================] - 19s 321us/step - loss: 0.1760 - acc: 0.9343 - val_loss: 0.2114 - val_acc: 0.9242\n",
            "Epoch 11/30\n",
            "60000/60000 [==============================] - 19s 320us/step - loss: 0.1646 - acc: 0.9393 - val_loss: 0.2103 - val_acc: 0.9257\n",
            "Epoch 12/30\n",
            "60000/60000 [==============================] - 19s 321us/step - loss: 0.1585 - acc: 0.9417 - val_loss: 0.2155 - val_acc: 0.9219\n",
            "Epoch 13/30\n",
            "60000/60000 [==============================] - 19s 322us/step - loss: 0.1527 - acc: 0.9427 - val_loss: 0.2109 - val_acc: 0.9246\n",
            "Epoch 14/30\n",
            "60000/60000 [==============================] - 19s 319us/step - loss: 0.1458 - acc: 0.9448 - val_loss: 0.2123 - val_acc: 0.9298\n",
            "Epoch 15/30\n",
            "60000/60000 [==============================] - 19s 319us/step - loss: 0.1420 - acc: 0.9464 - val_loss: 0.2084 - val_acc: 0.9289\n",
            "Epoch 16/30\n",
            "60000/60000 [==============================] - 19s 320us/step - loss: 0.1354 - acc: 0.9490 - val_loss: 0.2081 - val_acc: 0.9313\n",
            "Epoch 17/30\n",
            "60000/60000 [==============================] - 19s 320us/step - loss: 0.1295 - acc: 0.9514 - val_loss: 0.2324 - val_acc: 0.9242\n",
            "Epoch 18/30\n",
            "60000/60000 [==============================] - 19s 321us/step - loss: 0.1329 - acc: 0.9496 - val_loss: 0.2189 - val_acc: 0.9273\n",
            "Epoch 19/30\n",
            "60000/60000 [==============================] - 19s 319us/step - loss: 0.1242 - acc: 0.9535 - val_loss: 0.2189 - val_acc: 0.9315\n",
            "Epoch 20/30\n",
            "60000/60000 [==============================] - 19s 319us/step - loss: 0.1184 - acc: 0.9556 - val_loss: 0.2303 - val_acc: 0.9315\n",
            "Epoch 21/30\n",
            "60000/60000 [==============================] - 19s 319us/step - loss: 0.1178 - acc: 0.9554 - val_loss: 0.2328 - val_acc: 0.9243\n",
            "Epoch 22/30\n",
            "60000/60000 [==============================] - 19s 320us/step - loss: 0.1123 - acc: 0.9582 - val_loss: 0.2262 - val_acc: 0.9263\n",
            "Epoch 23/30\n",
            "60000/60000 [==============================] - 19s 321us/step - loss: 0.1100 - acc: 0.9589 - val_loss: 0.2352 - val_acc: 0.9248\n",
            "Epoch 24/30\n",
            "60000/60000 [==============================] - 19s 321us/step - loss: 0.1116 - acc: 0.9578 - val_loss: 0.2421 - val_acc: 0.9244\n",
            "Epoch 25/30\n",
            "60000/60000 [==============================] - 19s 321us/step - loss: 0.1056 - acc: 0.9600 - val_loss: 0.2334 - val_acc: 0.9296\n",
            "Epoch 26/30\n",
            "60000/60000 [==============================] - 19s 320us/step - loss: 0.1044 - acc: 0.9600 - val_loss: 0.2407 - val_acc: 0.9274\n",
            "Epoch 27/30\n",
            "60000/60000 [==============================] - 19s 322us/step - loss: 0.1015 - acc: 0.9622 - val_loss: 0.2207 - val_acc: 0.9327\n",
            "Epoch 28/30\n",
            "60000/60000 [==============================] - 19s 321us/step - loss: 0.1028 - acc: 0.9615 - val_loss: 0.2446 - val_acc: 0.9282\n",
            "Epoch 29/30\n",
            "60000/60000 [==============================] - 19s 321us/step - loss: 0.0998 - acc: 0.9627 - val_loss: 0.2357 - val_acc: 0.9304\n",
            "Epoch 30/30\n",
            "60000/60000 [==============================] - 19s 321us/step - loss: 0.0937 - acc: 0.9642 - val_loss: 0.2397 - val_acc: 0.9341\n",
            "test loss 0.23967326110452414\n",
            "test accuracy 0.9341\n"
          ],
          "name": "stdout"
        }
      ]
    },
    {
      "metadata": {
        "id": "YmmP6ibCAO8D",
        "colab_type": "code",
        "outputId": "f7381578-3a52-480c-a1d9-7ce213f5900c",
        "colab": {
          "base_uri": "https://localhost:8080/",
          "height": 52
        }
      },
      "cell_type": "code",
      "source": [
        "score = model.evaluate(x_test, y_test, verbose = 0)\n",
        "print('test loss',score[0])\n",
        "print('test accuracy',score[1])"
      ],
      "execution_count": 7,
      "outputs": [
        {
          "output_type": "stream",
          "text": [
            "test loss 0.23967326110452414\n",
            "test accuracy 0.9341\n"
          ],
          "name": "stdout"
        }
      ]
    },
    {
      "metadata": {
        "id": "XW_ne8W7mRtI",
        "colab_type": "code",
        "colab": {}
      },
      "cell_type": "code",
      "source": [
        ""
      ],
      "execution_count": 0,
      "outputs": []
    }
  ]
}