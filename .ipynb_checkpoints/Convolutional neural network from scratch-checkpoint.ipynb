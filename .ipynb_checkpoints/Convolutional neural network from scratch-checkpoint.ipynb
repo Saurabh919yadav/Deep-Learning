{
 "cells": [
  {
   "cell_type": "markdown",
   "metadata": {},
   "source": [
    "## Reading input images\n",
    "The following code reads an already existing image from skimage library and converts it into gray from RGB."
   ]
  },
  {
   "cell_type": "code",
   "execution_count": 15,
   "metadata": {},
   "outputs": [],
   "source": [
    "import numpy as np\n",
    "import sys\n",
    "import skimage.data\n",
    "\n",
    "#reading the data\n",
    "img = skimage.data.chelsea()\n",
    "\n",
    "#converting the image into gray.\n",
    "img = skimage.color.rgb2gray(img)"
   ]
  },
  {
   "cell_type": "markdown",
   "metadata": {},
   "source": [
    "skimage library contains different data to view all of such data use :\n",
    "dir(skimage.data)"
   ]
  },
  {
   "cell_type": "code",
   "execution_count": 16,
   "metadata": {},
   "outputs": [
    {
     "name": "stdout",
     "output_type": "stream",
     "text": [
      "['__all__', '__builtins__', '__cached__', '__doc__', '__file__', '__loader__', '__name__', '__package__', '__path__', '__spec__', '_binary_blobs', '_np', '_os', 'astronaut', 'binary_blobs', 'camera', 'checkerboard', 'chelsea', 'clock', 'coffee', 'coins', 'data_dir', 'expected_warnings', 'horse', 'hubble_deep_field', 'img_as_bool', 'immunohistochemistry', 'imread', 'lfw_subset', 'load', 'logo', 'moon', 'page', 'rocket', 'stereo_motorcycle', 'text', 'use_plugin', 'warn']\n"
     ]
    }
   ],
   "source": [
    "print(dir(skimage.data))"
   ]
  },
  {
   "cell_type": "markdown",
   "metadata": {},
   "source": [
    "We are using chelsea dataset that contains images of cats.\n",
    "\n",
    "### Preparing filters \n",
    "The following code prepares the filter bank for the first conv layer i.e. \"l1\""
   ]
  },
  {
   "cell_type": "code",
   "execution_count": 17,
   "metadata": {},
   "outputs": [],
   "source": [
    "l1_filter = np.zeros((2,3,3))"
   ]
  },
  {
   "cell_type": "markdown",
   "metadata": {},
   "source": [
    "A zero array is created according to the numbers of filters and the size of each filter. 2 filters of size <b>3x3</b> are created that is why the zero array is of size(2=num_filters,3=num_rows_filter,3=num_cols_filter). Size of the filter is selected to be a <b>2D</b> array without depth because the input image is gray and it has no depth. If we were to use a RGB image, the filter size must be (3,3,3=depth).\n",
    "\n",
    "\n",
    "<b>Now, initializing the values of filters in the following code</b>\n"
   ]
  },
  {
   "cell_type": "code",
   "execution_count": 18,
   "metadata": {},
   "outputs": [],
   "source": [
    "l1_filter[0, :, :] = np.array([[[-1, 0, 1],\n",
    "                               [-1, 0, 1],\n",
    "                               [-1, 0, 1]]])\n",
    "\n",
    "l1_filter[1, :, :] = np.array([[[1, 1, 1],\n",
    "                               [0, 0, 0],\n",
    "                               [-1, -1, -1]]])"
   ]
  },
  {
   "cell_type": "markdown",
   "metadata": {},
   "source": [
    "### Convolutional layer \n",
    "After preparing the filters , next is to convolve the inpt image by them. We are going to define a function called conv:\n",
    "this function takes input as two arguments , image and the filter bank"
   ]
  },
  {
   "cell_type": "code",
   "execution_count": 19,
   "metadata": {},
   "outputs": [
    {
     "name": "stdout",
     "output_type": "stream",
     "text": [
      "Filter  1\n"
     ]
    },
    {
     "ename": "NameError",
     "evalue": "name 'conv_' is not defined",
     "output_type": "error",
     "traceback": [
      "\u001b[1;31m---------------------------------------------------------------------------\u001b[0m",
      "\u001b[1;31mNameError\u001b[0m                                 Traceback (most recent call last)",
      "\u001b[1;32m<ipython-input-19-d7f5ab89eea4>\u001b[0m in \u001b[0;36m<module>\u001b[1;34m()\u001b[0m\n\u001b[0;32m     53\u001b[0m \u001b[1;33m\u001b[0m\u001b[0m\n\u001b[0;32m     54\u001b[0m \u001b[1;33m\u001b[0m\u001b[0m\n\u001b[1;32m---> 55\u001b[1;33m \u001b[0ml1_filter_map\u001b[0m \u001b[1;33m=\u001b[0m \u001b[0mconv\u001b[0m\u001b[1;33m(\u001b[0m\u001b[0mimg\u001b[0m\u001b[1;33m,\u001b[0m \u001b[0ml1_filter\u001b[0m\u001b[1;33m)\u001b[0m\u001b[1;33m\u001b[0m\u001b[0m\n\u001b[0m",
      "\u001b[1;32m<ipython-input-19-d7f5ab89eea4>\u001b[0m in \u001b[0;36mconv\u001b[1;34m(img, conv_filter)\u001b[0m\n\u001b[0;32m     45\u001b[0m                 \u001b[0mconv_map\u001b[0m \u001b[1;33m=\u001b[0m \u001b[0mcomv_map\u001b[0m \u001b[1;33m+\u001b[0m \u001b[0mconv\u001b[0m\u001b[1;33m(\u001b[0m\u001b[0mimg\u001b[0m\u001b[1;33m[\u001b[0m\u001b[1;33m:\u001b[0m\u001b[1;33m,\u001b[0m\u001b[1;33m:\u001b[0m\u001b[1;33m,\u001b[0m\u001b[0mch_num\u001b[0m\u001b[1;33m]\u001b[0m\u001b[1;33m,\u001b[0m\u001b[0mcurr_filter\u001b[0m\u001b[1;33m[\u001b[0m\u001b[1;33m:\u001b[0m\u001b[1;33m,\u001b[0m\u001b[1;33m:\u001b[0m\u001b[1;33m,\u001b[0m\u001b[0mch_num\u001b[0m\u001b[1;33m]\u001b[0m\u001b[1;33m)\u001b[0m\u001b[1;33m\u001b[0m\u001b[0m\n\u001b[0;32m     46\u001b[0m         \u001b[1;32melse\u001b[0m\u001b[1;33m:\u001b[0m\u001b[1;33m\u001b[0m\u001b[0m\n\u001b[1;32m---> 47\u001b[1;33m             \u001b[0mconv_map\u001b[0m \u001b[1;33m=\u001b[0m \u001b[0mconv_\u001b[0m\u001b[1;33m(\u001b[0m\u001b[0mimg\u001b[0m\u001b[1;33m,\u001b[0m\u001b[0mcurr_filter\u001b[0m\u001b[1;33m)\u001b[0m\u001b[1;33m\u001b[0m\u001b[0m\n\u001b[0m\u001b[0;32m     48\u001b[0m \u001b[1;33m\u001b[0m\u001b[0m\n\u001b[0;32m     49\u001b[0m         \u001b[0mfeature_maps\u001b[0m\u001b[1;33m[\u001b[0m\u001b[1;33m:\u001b[0m\u001b[1;33m,\u001b[0m\u001b[1;33m:\u001b[0m\u001b[1;33m,\u001b[0m\u001b[0mfilter_num\u001b[0m\u001b[1;33m]\u001b[0m\u001b[1;33m=\u001b[0m\u001b[0mconv_map\u001b[0m\u001b[1;33m\u001b[0m\u001b[0m\n",
      "\u001b[1;31mNameError\u001b[0m: name 'conv_' is not defined"
     ]
    }
   ],
   "source": [
    "\n",
    "def conv(img, conv_filter):\n",
    "    '''\n",
    "    input : two arguments viz. images and filter bank\n",
    "    output : \n",
    "    \n",
    "    approach:\n",
    "    '''\n",
    "    if len(img.shape)>2 or len(conv_filter.shape) >3 :\n",
    "        if img.shape[-1] != conv_filter.shape[-1]:\n",
    "            print(\"Error : Number of channels is both image and filter must match.\")\n",
    "            sys.exit()\n",
    "            \n",
    "    if conv_filter.shape[2] != conv_filter.shape[1]:\n",
    "        print(\" Error : Filter must be a square matrix. I.e. number of rows and columns must match\")\n",
    "        sys.exit()\n",
    "    \n",
    "    if conv_filter.shape[1] %2==0:\n",
    "        print(\"Error : Filter must be of odd size. I.e. number of rows and columns  must be odd. \")\n",
    "        sys.exit()\n",
    "    \n",
    "    \n",
    "    #An empty feature map to hold the output of convolving the filters with the image\n",
    "    \n",
    "    feature_maps = np.zeros((img.shape[0] - conv_filter.shape[1]+1, \n",
    "                            img.shape[1] - conv_filter.shape[1]+1,\n",
    "                            conv_filter.shape[0]))\n",
    "    \n",
    "    \n",
    "    #Convolving the image after by the filters.\n",
    "    for filter_num in range(conv_filter.shape[0]):\n",
    "        print(\"Filter \", filter_num+1)\n",
    "        \n",
    "        curr_filter = conv_filter[filter_num, :]\n",
    "        \"\"\"\n",
    "        Checking if there are multiple channels for the single filter.\n",
    "        If so, then each channel will convolve the image.\n",
    "        The result of all convolutions are summed to return a single feature map.\n",
    "        \n",
    "        \"\"\"\n",
    "        \n",
    "        if len(curr_filter.shape) > 2:\n",
    "            conv_map = conv_(img[:,:,0], curr_filter[:, :, 0])\n",
    "            for ch_num in range(1, curr_filter.shape[-1]):\n",
    "                conv_map = comv_map + conv(img[:,:,ch_num],curr_filter[:,:,ch_num])\n",
    "        else:\n",
    "            conv_map = conv_(img,curr_filter)\n",
    "            \n",
    "        feature_maps[:,:,filter_num]=conv_map\n",
    "        \n",
    "    return feature_maps\n",
    "\n",
    "\n",
    "def conv_(img, conv_filter):\n",
    "    filter_size = con_filter.shape[1]\n",
    "    result = np.zeros((img.shape))\n",
    "    # Looping through the image to apply convolutuion operation\n",
    "    for r in np.uint16(np.arange(filter_size/2.0,\n",
    "                                 img.shape[0]-filter_size/2.0+1)):\n",
    "        for c in np.uint16(np.arange(filter_size/2.0,\n",
    "                                     img.shape[1]-filter_size/2.0+1)):\n",
    "            \"\"\"\n",
    "            Getting the current region to get multiplied with the filter.\n",
    "            How to loop through the image and get the region based on\n",
    "            the image and filter sizes is the most tricky part of convolution\n",
    "            \n",
    "            \"\"\"\n",
    "            curr_region = img[r-np.uint16(np.floor(filter_size/2.0)):]\n",
    "    \n",
    "    \n",
    "    \n",
    "\n",
    "\n",
    "l1_filter_map = conv(img, l1_filter)\n"
   ]
  },
  {
   "cell_type": "code",
   "execution_count": null,
   "metadata": {},
   "outputs": [],
   "source": []
  },
  {
   "cell_type": "code",
   "execution_count": null,
   "metadata": {},
   "outputs": [],
   "source": []
  }
 ],
 "metadata": {
  "kernelspec": {
   "display_name": "Python 3",
   "language": "python",
   "name": "python3"
  },
  "language_info": {
   "codemirror_mode": {
    "name": "ipython",
    "version": 3
   },
   "file_extension": ".py",
   "mimetype": "text/x-python",
   "name": "python",
   "nbconvert_exporter": "python",
   "pygments_lexer": "ipython3",
   "version": "3.6.6"
  }
 },
 "nbformat": 4,
 "nbformat_minor": 2
}
